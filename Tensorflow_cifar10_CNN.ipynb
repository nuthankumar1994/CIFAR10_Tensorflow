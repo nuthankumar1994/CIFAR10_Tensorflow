{
  "cells": [
    {
      "cell_type": "markdown",
      "metadata": {
        "id": "ziQ6YeTI7-8z"
      },
      "source": [
        "Adapted from [GitHub Keras Example](https://github.com/keras-team/keras/blob/master/examples/cifar10_cnn.py)\n",
        "\n",
        "\n",
        "TensorFlow 1.x --> TensorFlow 2.x"
      ]
    },
    {
      "cell_type": "markdown",
      "metadata": {
        "id": "ZpIMXCQoggZp"
      },
      "source": [
        "# 1. Introduction\n",
        "The dataset that we will work it is the Cifar10 dataset, a dataset of images from 10 different classes, and we will use a Sequential CNN to identify the class of an image.\n",
        "\n",
        "This model reaches ~80% accuracy.\n"
      ]
    },
    {
      "cell_type": "code",
      "execution_count": 1,
      "metadata": {
        "colab": {
          "base_uri": "https://localhost:8080/"
        },
        "id": "PiGHlePr8Ea5",
        "outputId": "7f8fc9bf-e0d4-41ea-f4f2-2807d389001a"
      },
      "outputs": [
        {
          "name": "stdout",
          "output_type": "stream",
          "text": [
            "2.8.0\n"
          ]
        }
      ],
      "source": [
        "import tensorflow as tf\n",
        "import seaborn as sns\n",
        "import numpy as np\n",
        "import pandas as pd\n",
        "import matplotlib.pyplot as plt\n",
        "import matplotlib.image as mpimg\n",
        "import itertools\n",
        "\n",
        "print(tf.__version__)"
      ]
    },
    {
      "cell_type": "markdown",
      "metadata": {
        "id": "_M7mkTRmgoJt"
      },
      "source": [
        "# 2. Data Preprocessing\n"
      ]
    },
    {
      "cell_type": "markdown",
      "metadata": {
        "id": "bm6FvcebTzMU"
      },
      "source": [
        "Classes:\n",
        "    0. airplane\n",
        "    1. automobile\n",
        "    2. bird\n",
        "    3. cat\n",
        "    4. deer\n",
        "    5. dog\n",
        "    6. frog\n",
        "    7. horse\n",
        "    8. ship\n",
        "    9. truck"
      ]
    },
    {
      "cell_type": "code",
      "execution_count": 2,
      "metadata": {
        "colab": {
          "base_uri": "https://localhost:8080/"
        },
        "id": "sGx1exIR8pBm",
        "outputId": "9086f374-b7d8-4c01-da19-2309cf163bf9"
      },
      "outputs": [
        {
          "name": "stdout",
          "output_type": "stream",
          "text": [
            "Downloading data from https://www.cs.toronto.edu/~kriz/cifar-10-python.tar.gz\n",
            "170500096/170498071 [==============================] - 11s 0us/step\n",
            "170508288/170498071 [==============================] - 11s 0us/step\n"
          ]
        }
      ],
      "source": [
        "cifar10 = tf.keras.datasets.cifar10\n",
        "(x_train, y_train), (x_test, y_test) = cifar10.load_data()"
      ]
    },
    {
      "cell_type": "code",
      "execution_count": 3,
      "metadata": {
        "id": "Nf0LNnxEXHtC"
      },
      "outputs": [],
      "source": [
        "y_train = y_train.flatten()\n",
        "y_test = y_test.flatten()"
      ]
    },
    {
      "cell_type": "markdown",
      "metadata": {
        "id": "v5dDKgCD2saz"
      },
      "source": [
        "Run the following code to see how many images are in each class. We see that each class has 5000 images. Having an even distribution of images is helpful for our model as it will have enough images to learn about the features for each class."
      ]
    },
    {
      "cell_type": "code",
      "execution_count": 4,
      "metadata": {
        "colab": {
          "base_uri": "https://localhost:8080/",
          "height": 652
        },
        "id": "94XVUmBojmkc",
        "outputId": "0d0822c9-6f77-49b9-df44-394fae49c2df"
      },
      "outputs": [
        {
          "name": "stderr",
          "output_type": "stream",
          "text": [
            "/usr/local/lib/python3.7/dist-packages/seaborn/_decorators.py:43: FutureWarning: Pass the following variable as a keyword arg: x. From version 0.12, the only valid positional argument will be `data`, and passing other arguments without an explicit keyword will result in an error or misinterpretation.\n",
            "  FutureWarning\n"
          ]
        },
        {
          "data": {
            "text/plain": [
              "[[Text(0, 0, 'airplane'),\n",
              "  Text(0, 0, 'automobile'),\n",
              "  Text(0, 0, 'bird'),\n",
              "  Text(0, 0, 'cat'),\n",
              "  Text(0, 0, 'deer'),\n",
              "  Text(0, 0, 'dog'),\n",
              "  Text(0, 0, 'frog'),\n",
              "  Text(0, 0, 'horse'),\n",
              "  Text(0, 0, 'ship'),\n",
              "  Text(0, 0, 'truck')]]"
            ]
          },
          "execution_count": 4,
          "metadata": {},
          "output_type": "execute_result"
        },
        {
          "data": {
            "image/png": "[encoded data removed]",
            "text/plain": [
              "<Figure size 720x504 with 1 Axes>"
            ]
          },
          "metadata": {
            "needs_background": "light"
          },
          "output_type": "display_data"
        }
      ],
      "source": [
        "classes = ['airplane', 'automobile', 'bird', 'cat', 'deer', 'dog', 'frog', 'horse', 'ship', 'truck']\n",
        "\n",
        "plt.figure(figsize=(10,7))\n",
        "p = sns.countplot(y_train.flatten())\n",
        "p.set(xticklabels=classes)"
      ]
    },
    {
      "cell_type": "markdown",
      "metadata": {
        "id": "Oco3NesskMBL"
      },
      "source": [
        "## 2.2 Check for NaN Values"
      ]
    },
    {
      "cell_type": "code",
      "execution_count": 5,
      "metadata": {
        "colab": {
          "base_uri": "https://localhost:8080/"
        },
        "id": "VH-4jZaLkUi8",
        "outputId": "1b6ec043-32a9-4668-a8bc-dfeb12959728"
      },
      "outputs": [
        {
          "data": {
            "text/plain": [
              "False"
            ]
          },
          "execution_count": 5,
          "metadata": {},
          "output_type": "execute_result"
        }
      ],
      "source": [
        "np.isnan(x_train).any()"
      ]
    },
    {
      "cell_type": "code",
      "execution_count": 6,
      "metadata": {
        "colab": {
          "base_uri": "https://localhost:8080/"
        },
        "id": "XyW-9Y95lDOO",
        "outputId": "9c918276-be67-4ea2-c610-a3a840f508f1"
      },
      "outputs": [
        {
          "data": {
            "text/plain": [
              "False"
            ]
          },
          "execution_count": 6,
          "metadata": {},
          "output_type": "execute_result"
        }
      ],
      "source": [
        "np.isnan(x_test).any()"
      ]
    },
    {
      "cell_type": "markdown",
      "metadata": {
        "id": "k_s4kBdt29S0"
      },
      "source": [
        "There are no NaN values in our dataset. There is no need to preprocess the data to deal with NaN's."
      ]
    },
    {
      "cell_type": "markdown",
      "metadata": {
        "id": "xQShzwu1lVF6"
      },
      "source": [
        "## 2.3 Normalization and Reshaping\n"
      ]
    },
    {
      "cell_type": "code",
      "execution_count": 7,
      "metadata": {
        "id": "ku_acgz58zYK"
      },
      "outputs": [],
      "source": [
        "input_shape = (32, 32, 3)\n",
        "\n",
        "x_train=x_train.reshape(x_train.shape[0], x_train.shape[1], x_train.shape[2], 3)\n",
        "x_train=x_train / 255.0\n",
        "x_test = x_test.reshape(x_test.shape[0], x_test.shape[1], x_test.shape[2], 3)\n",
        "x_test=x_test / 255.0"
      ]
    },
    {
      "cell_type": "markdown",
      "metadata": {
        "id": "to2JD2UdlwlO"
      },
      "source": [
        "## 2.4 Label Encoding\n",
        "\n"
      ]
    },
    {
      "cell_type": "code",
      "execution_count": 8,
      "metadata": {
        "id": "6-QgtiLFlvNq"
      },
      "outputs": [],
      "source": [
        "y_train = tf.one_hot(y_train.astype(np.int32), depth=10)\n",
        "y_test = tf.one_hot(y_test.astype(np.int32), depth=10)"
      ]
    },
    {
      "cell_type": "code",
      "execution_count": 9,
      "metadata": {
        "colab": {
          "base_uri": "https://localhost:8080/"
        },
        "id": "GzTNGWbxW_p_",
        "outputId": "236553bc-1bda-4fc1-b510-920853d471b9"
      },
      "outputs": [
        {
          "data": {
            "text/plain": [
              "<tf.Tensor: shape=(10,), dtype=float32, numpy=array([0., 0., 0., 0., 0., 0., 1., 0., 0., 0.], dtype=float32)>"
            ]
          },
          "execution_count": 9,
          "metadata": {},
          "output_type": "execute_result"
        }
      ],
      "source": [
        "y_train[0]"
      ]
    },
    {
      "cell_type": "markdown",
      "metadata": {
        "id": "nTKuoZV_pGkM"
      },
      "source": [
        "## 2.5 Visualize Data"
      ]
    },
    {
      "cell_type": "code",
      "execution_count": 10,
      "metadata": {
        "colab": {
          "base_uri": "https://localhost:8080/",
          "height": 283
        },
        "id": "q3SNFRohpJvH",
        "outputId": "08334b68-c659-4f77-ffe8-b5bc78586d08"
      },
      "outputs": [
        {
          "name": "stdout",
          "output_type": "stream",
          "text": [
            "tf.Tensor([0. 0. 0. 0. 0. 0. 0. 0. 1. 0.], shape=(10,), dtype=float32)\n"
          ]
        },
        {
          "data": {
            "image/png": "[encoded data removed]",
            "text/plain": [
              "<Figure size 432x288 with 1 Axes>"
            ]
          },
          "metadata": {
            "needs_background": "light"
          },
          "output_type": "display_data"
        }
      ],
      "source": [
        "plt.imshow(x_train[100])\n",
        "print(y_train[100])"
      ]
    },
    {
      "cell_type": "markdown",
      "metadata": {
        "id": "ttMHaGwN7TBM"
      },
      "source": [
        "The image is an image of a ship. The one-hot encoding vector holds the value of the ship class.\n"
      ]
    },
    {
      "cell_type": "markdown",
      "metadata": {
        "id": "9TCx_BCTy2r_"
      },
      "source": [
        "## 3.1 Define the Model\n"
      ]
    },
    {
      "cell_type": "code",
      "execution_count": 11,
      "metadata": {
        "id": "wPr684qj8X60"
      },
      "outputs": [],
      "source": [
        "batch_size = 32\n",
        "num_classes = 10\n",
        "epochs = 50"
      ]
    },
    {
      "cell_type": "code",
      "execution_count": 12,
      "metadata": {
        "id": "RjTEk5TB88ra"
      },
      "outputs": [],
      "source": [
        "model = tf.keras.models.Sequential([\n",
        "    tf.keras.layers.Conv2D(32, 3, padding='same', input_shape=x_train.shape[1:], activation='relu'),\n",
        "    tf.keras.layers.Conv2D(32, 3, activation='relu'),\n",
        "    tf.keras.layers.MaxPooling2D(),\n",
        "    tf.keras.layers.Dropout(0.25),\n",
        "\n",
        "    tf.keras.layers.Conv2D(64, 3, padding='same', activation='relu'),\n",
        "    tf.keras.layers.Conv2D(64, 3, activation='relu'),\n",
        "    tf.keras.layers.MaxPooling2D(),\n",
        "    tf.keras.layers.Dropout(0.25),\n",
        "\n",
        "    tf.keras.layers.Flatten(),\n",
        "    tf.keras.layers.Dense(512, activation='relu'),\n",
        "    tf.keras.layers.Dropout(0.5),\n",
        "    tf.keras.layers.Dense(num_classes, activation='softmax'),\n",
        "])\n",
        "\n",
        "model.compile(optimizer=tf.keras.optimizers.RMSprop(learning_rate=0.0001, decay=1e-06),\n",
        "            loss='categorical_crossentropy', metrics=['acc'])\n"
      ]
    },
    {
      "cell_type": "markdown",
      "metadata": {
        "id": "AT0NrsRh0lgw"
      },
      "source": [
        "## 3.2 Fit the Training Data\n",
        "\n",
        "Testing the model on a validation dataset prevents overfitting of the data. We specified a 10% validation and 90% training split."
      ]
    },
    {
      "cell_type": "code",
      "execution_count": 13,
      "metadata": {
        "colab": {
          "base_uri": "https://localhost:8080/"
        },
        "id": "V-GXoRkD-U8W",
        "outputId": "e32565c7-f309-4002-8ba5-06741428147b"
      },
      "outputs": [
        {
          "name": "stdout",
          "output_type": "stream",
          "text": [
            "Epoch 1/50\n",
            "1563/1563 [==============================] - 37s 17ms/step - loss: 1.7970 - acc: 0.3401\n",
            "Epoch 2/50\n",
            "1563/1563 [==============================] - 23s 15ms/step - loss: 1.5016 - acc: 0.4571\n",
            "Epoch 3/50\n",
            "1563/1563 [==============================] - 23s 15ms/step - loss: 1.3603 - acc: 0.5103\n",
            "Epoch 4/50\n",
            "1563/1563 [==============================] - 24s 15ms/step - loss: 1.2680 - acc: 0.5500\n",
            "Epoch 5/50\n",
            "1563/1563 [==============================] - 23s 15ms/step - loss: 1.1962 - acc: 0.5746\n",
            "Epoch 6/50\n",
            "1563/1563 [==============================] - 23s 15ms/step - loss: 1.1269 - acc: 0.6028\n",
            "Epoch 7/50\n",
            "1563/1563 [==============================] - 23s 15ms/step - loss: 1.0820 - acc: 0.6199\n",
            "Epoch 8/50\n",
            "1563/1563 [==============================] - 24s 15ms/step - loss: 1.0349 - acc: 0.6338\n",
            "Epoch 9/50\n",
            "1563/1563 [==============================] - 23s 15ms/step - loss: 0.9965 - acc: 0.6497\n",
            "Epoch 10/50\n",
            "1563/1563 [==============================] - 23s 15ms/step - loss: 0.9630 - acc: 0.6628\n",
            "Epoch 11/50\n",
            "1563/1563 [==============================] - 23s 15ms/step - loss: 0.9370 - acc: 0.6730\n",
            "Epoch 12/50\n",
            "1563/1563 [==============================] - 23s 15ms/step - loss: 0.9077 - acc: 0.6836\n",
            "Epoch 13/50\n",
            "1563/1563 [==============================] - 23s 15ms/step - loss: 0.8862 - acc: 0.6891\n",
            "Epoch 14/50\n",
            "1563/1563 [==============================] - 23s 15ms/step - loss: 0.8641 - acc: 0.6964\n",
            "Epoch 15/50\n",
            "1563/1563 [==============================] - 23s 15ms/step - loss: 0.8500 - acc: 0.7037\n",
            "Epoch 16/50\n",
            "1563/1563 [==============================] - 23s 15ms/step - loss: 0.8314 - acc: 0.7116\n",
            "Epoch 17/50\n",
            "1563/1563 [==============================] - 23s 15ms/step - loss: 0.8153 - acc: 0.7167\n",
            "Epoch 18/50\n",
            "1563/1563 [==============================] - 23s 15ms/step - loss: 0.8042 - acc: 0.7227\n",
            "Epoch 19/50\n",
            "1563/1563 [==============================] - 23s 15ms/step - loss: 0.7912 - acc: 0.7259\n",
            "Epoch 20/50\n",
            "1563/1563 [==============================] - 23s 15ms/step - loss: 0.7872 - acc: 0.7303\n",
            "Epoch 21/50\n",
            "1563/1563 [==============================] - 23s 15ms/step - loss: 0.7729 - acc: 0.7348\n",
            "Epoch 22/50\n",
            "1563/1563 [==============================] - 24s 15ms/step - loss: 0.7639 - acc: 0.7370\n",
            "Epoch 23/50\n",
            "1563/1563 [==============================] - 23s 15ms/step - loss: 0.7565 - acc: 0.7403\n",
            "Epoch 24/50\n",
            "1563/1563 [==============================] - 23s 15ms/step - loss: 0.7446 - acc: 0.7456\n",
            "Epoch 25/50\n",
            "1563/1563 [==============================] - 23s 15ms/step - loss: 0.7389 - acc: 0.7479\n",
            "Epoch 26/50\n",
            "1563/1563 [==============================] - 23s 15ms/step - loss: 0.7358 - acc: 0.7491\n",
            "Epoch 27/50\n",
            "1563/1563 [==============================] - 23s 15ms/step - loss: 0.7231 - acc: 0.7554\n",
            "Epoch 29/50\n",
            "1563/1563 [==============================] - 23s 15ms/step - loss: 0.7168 - acc: 0.7574\n",
            "Epoch 30/50\n",
            "1563/1563 [==============================] - 23s 15ms/step - loss: 0.7111 - acc: 0.7583\n",
            "Epoch 31/50\n",
            "1563/1563 [==============================] - 23s 15ms/step - loss: 0.7101 - acc: 0.7588\n",
            "Epoch 32/50\n",
            "1563/1563 [==============================] - 23s 15ms/step - loss: 0.7060 - acc: 0.7610\n",
            "Epoch 33/50\n",
            "1563/1563 [==============================] - 23s 15ms/step - loss: 0.6992 - acc: 0.7636\n",
            "Epoch 34/50\n",
            "1563/1563 [==============================] - 23s 15ms/step - loss: 0.6960 - acc: 0.7650\n",
            "Epoch 35/50\n",
            "1563/1563 [==============================] - 23s 15ms/step - loss: 0.6907 - acc: 0.7649\n",
            "Epoch 36/50\n",
            "1563/1563 [==============================] - 23s 15ms/step - loss: 0.6856 - acc: 0.7688\n",
            "Epoch 37/50\n",
            "1563/1563 [==============================] - 23s 15ms/step - loss: 0.6884 - acc: 0.7667\n",
            "Epoch 38/50\n",
            "1563/1563 [==============================] - 23s 15ms/step - loss: 0.6814 - acc: 0.7693\n",
            "Epoch 39/50\n",
            "1563/1563 [==============================] - 23s 15ms/step - loss: 0.6793 - acc: 0.7703\n",
            "Epoch 40/50\n",
            "1563/1563 [==============================] - 23s 15ms/step - loss: 0.6754 - acc: 0.7728\n",
            "Epoch 41/50\n",
            "1563/1563 [==============================] - 23s 15ms/step - loss: 0.6718 - acc: 0.7742\n",
            "Epoch 42/50\n",
            "1563/1563 [==============================] - 23s 15ms/step - loss: 0.6696 - acc: 0.7740\n",
            "Epoch 43/50\n",
            "1563/1563 [==============================] - 23s 15ms/step - loss: 0.6673 - acc: 0.7765\n",
            "Epoch 44/50\n",
            "1563/1563 [==============================] - 23s 15ms/step - loss: 0.6698 - acc: 0.7745\n",
            "Epoch 45/50\n",
            "1563/1563 [==============================] - 23s 15ms/step - loss: 0.6607 - acc: 0.7771\n",
            "Epoch 46/50\n",
            "1563/1563 [==============================] - 23s 15ms/step - loss: 0.6591 - acc: 0.7779\n",
            "Epoch 47/50\n",
            "1563/1563 [==============================] - 23s 15ms/step - loss: 0.6601 - acc: 0.7771\n",
            "Epoch 48/50\n",
            "1563/1563 [==============================] - 23s 15ms/step - loss: 0.6559 - acc: 0.7802\n",
            "Epoch 49/50\n",
            "1563/1563 [==============================] - 23s 15ms/step - loss: 0.6501 - acc: 0.7804\n",
            "Epoch 50/50\n",
            "1563/1563 [==============================] - 23s 15ms/step - loss: 0.6510 - acc: 0.7815\n"
          ]
        }
      ],
      "source": [
        "history = model.fit(x_train, y_train, batch_size=batch_size,\n",
        "                    epochs=epochs)"
      ]
    },
    {
      "cell_type": "markdown",
      "metadata": {
        "id": "TGzrFXC69vr5"
      },
      "source": [
        "# 4. Evaluate the Model"
      ]
    },
    {
      "cell_type": "markdown",
      "metadata": {
        "id": "3wL6JNg7-5u-"
      },
      "source": [
        "## 4.1 Loss and Accuracy Curves\n",
        "\n",
        "Run the following cell to evaluate the loss and accuracy of our model"
      ]
    },
    {
      "cell_type": "code",
      "execution_count": 14,
      "metadata": {
        "colab": {
          "base_uri": "https://localhost:8080/",
          "height": 265
        },
        "id": "tkhKzBcg9ymI",
        "outputId": "94abd150-55c6-4c81-c3f3-c78a29a213d8"
      },
      "outputs": [
        {
          "data": {
            "image/png": "[encoded data removed]",
            "text/plain": [
              "<Figure size 432x288 with 2 Axes>"
            ]
          },
          "metadata": {
            "needs_background": "light"
          },
          "output_type": "display_data"
        }
      ],
      "source": [
        "fig, ax = plt.subplots(2,1)\n",
        "ax[0].plot(history.history['loss'], color='b', label=\"Training Loss\")\n",
        "legend = ax[0].legend(loc='best', shadow=True)\n",
        "\n",
        "ax[1].plot(history.history['acc'], color='b', label=\"Training Accuracy\")\n",
        "legend = ax[1].legend(loc='best', shadow=True)"
      ]
    },
    {
      "cell_type": "markdown",
      "metadata": {
        "id": "bRZd0Jj-EklQ"
      },
      "source": [
        "The accuracy increases over time and the loss decreases over time. However, the accuracy of our validation set seems to slightly decrease towards the end even thought our training accuracy increased. Running the model for more epochs might cause our model to be susceptible to overfitting."
      ]
    },
    {
      "cell_type": "markdown",
      "metadata": {
        "id": "hkNF8izQKjMa"
      },
      "source": [
        "## 4.2 Predict Results\n"
      ]
    },
    {
      "cell_type": "code",
      "execution_count": 15,
      "metadata": {
        "colab": {
          "base_uri": "https://localhost:8080/"
        },
        "id": "TUed3bpT_VzA",
        "outputId": "6090b3b1-88d8-4d62-b5a1-17b12adf60c6"
      },
      "outputs": [
        {
          "name": "stdout",
          "output_type": "stream",
          "text": [
            "313/313 [==============================] - 2s 7ms/step - loss: 0.7466 - acc: 0.7558\n"
          ]
        }
      ],
      "source": [
        "test_loss, test_acc = model.evaluate(x_test, y_test)"
      ]
    },
    {
      "cell_type": "markdown",
      "metadata": {
        "id": "gStuiR3pE63h"
      },
      "source": [
        "Our model runs pretty well, with an accuracy of ~80% on our testing data."
      ]
    },
    {
      "cell_type": "markdown",
      "metadata": {
        "id": "Y8awQU80KuiF"
      },
      "source": [
        "## 4.3 Confusion Matrix\n",
        "\n",
        "Run the following cell to compute our confusion matrix using TensorFlow."
      ]
    },
    {
      "cell_type": "code",
      "execution_count": 16,
      "metadata": {
        "id": "nB4WQloAK0W0"
      },
      "outputs": [],
      "source": [
        "# Predict the values from the validation dataset\n",
        "y_pred = model.predict(x_test)\n",
        "# Convert predictions classes to one hot vectors \n",
        "y_pred_classes = np.argmax(y_pred,axis = 1) \n",
        "# Convert validation observations to one hot vectors\n",
        "y_true = np.argmax(y_test,axis = 1)\n",
        "# compute the confusion matrix\n",
        "confusion_mtx = tf.math.confusion_matrix(y_true, y_pred_classes)"
      ]
    },
    {
      "cell_type": "markdown",
      "metadata": {
        "id": "KNJAUsqgFOem"
      },
      "source": [
        "Run the following cell to plot the confusion matrix. We see that our model classifies frogs pretty well, with 900 out of the 1000 frog images heving been classified correctly. We can also see that there is relatively high confusion between cats and dogs."
      ]
    },
    {
      "cell_type": "code",
      "execution_count": 17,
      "metadata": {
        "colab": {
          "base_uri": "https://localhost:8080/",
          "height": 877
        },
        "id": "twgFyvRpN2eu",
        "outputId": "07fb1360-7834-4200-98ed-f6f6e49b7406"
      },
      "outputs": [
        {
          "data": {
            "text/plain": [
              "[[Text(0, 0.5, 'airplane'),\n",
              "  Text(0, 1.5, 'automobile'),\n",
              "  Text(0, 2.5, 'bird'),\n",
              "  Text(0, 3.5, 'cat'),\n",
              "  Text(0, 4.5, 'deer'),\n",
              "  Text(0, 5.5, 'dog'),\n",
              "  Text(0, 6.5, 'frog'),\n",
              "  Text(0, 7.5, 'horse'),\n",
              "  Text(0, 8.5, 'ship'),\n",
              "  Text(0, 9.5, 'truck')],\n",
              " [Text(0.5, 0, 'airplane'),\n",
              "  Text(1.5, 0, 'automobile'),\n",
              "  Text(2.5, 0, 'bird'),\n",
              "  Text(3.5, 0, 'cat'),\n",
              "  Text(4.5, 0, 'deer'),\n",
              "  Text(5.5, 0, 'dog'),\n",
              "  Text(6.5, 0, 'frog'),\n",
              "  Text(7.5, 0, 'horse'),\n",
              "  Text(8.5, 0, 'ship'),\n",
              "  Text(9.5, 0, 'truck')]]"
            ]
          },
          "execution_count": 17,
          "metadata": {},
          "output_type": "execute_result"
        },
        {
          "data": {
            "image/png": "[encoded data removed]",
            "text/plain": [
              "<Figure size 864x648 with 2 Axes>"
            ]
          },
          "metadata": {
            "needs_background": "light"
          },
          "output_type": "display_data"
        }
      ],
      "source": [
        "plt.figure(figsize=(12, 9))\n",
        "c = sns.heatmap(confusion_mtx, annot=True, fmt='g')\n",
        "c.set(xticklabels=classes, yticklabels=classes)"
      ]
    }
  ],
  "metadata": {
    "accelerator": "GPU",
    "colab": {
      "name": "tensorflow-cifar10-cnn-tutorial.ipynb",
      "provenance": []
    },
    "kernelspec": {
      "display_name": "Python 3",
      "language": "python",
      "name": "python3"
    },
    "language_info": {
      "codemirror_mode": {
        "name": "ipython",
        "version": 3
      },
      "file_extension": ".py",
      "mimetype": "text/x-python",
      "name": "python",
      "nbconvert_exporter": "python",
      "pygments_lexer": "ipython3",
      "version": "3.7.6"
    }
  },
  "nbformat": 4,
  "nbformat_minor": 0
}
